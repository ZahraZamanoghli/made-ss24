{
 "cells": [
  {
   "cell_type": "markdown",
   "id": "443e47c3-bad4-47fc-83eb-2dd8bf0d9397",
   "metadata": {},
   "source": [
    "# Title: Assessing the Role of Individual Consumption Behavior in Climate Change \n"
   ]
  },
  {
   "cell_type": "markdown",
   "id": "813bffcb-53ad-40cf-877e-cb57cc7e69a9",
   "metadata": {},
   "source": [
    "**Author:** Zahra Zamanoghli  \n",
    "**Date:** June 6, 2023"
   ]
  },
  {
   "cell_type": "markdown",
   "id": "50d48dde-3f24-4614-8f96-887790ef86f0",
   "metadata": {},
   "source": [
    "<hr/>"
   ]
  },
  {
   "cell_type": "markdown",
   "id": "92f6e26c-a5ec-4815-806c-2579640ef7a3",
   "metadata": {},
   "source": [
    "## Question \n",
    "\n",
    "### How do the consumption patterns of individuals contribute to carbon emissions across diverse categories of goods and services?"
   ]
  },
  {
   "cell_type": "markdown",
   "id": "9c3e0bb4-a3c7-4765-8a71-61043beb6452",
   "metadata": {},
   "source": [
    "<hr/>"
   ]
  },
  {
   "cell_type": "markdown",
   "id": "ce878cd3-268c-47a7-b13f-6a8338494cd7",
   "metadata": {},
   "source": [
    "## Data Sources\n",
    "\n",
    "### Chosen Data Sources\n",
    "#### Datasource1: Eurostat - Consumption footprint\n",
    "\n",
    "- Metadata URL: https://ec.europa.eu/eurostat/cache/metadata/en/cei_gsr010_esmsip2.htm\n",
    "- Data URL: https://ec.europa.eu/eurostat/api/dissemination/sdmx/2.1/data/cei_gsr010?format=SDMX-CSV&compressed=false\n",
    "- Data Type: CSV\n",
    "- License: Eurostat Copyright/Licence Policy (Can be found in the 8. Comment section of the metadata. Based on the license terms, it is acceptable for individuals to use this dataset for personal or educational endeavors, provided we acknowledge the source appropriately.)\n",
    "- **Reason for Use:** This dataset meets the need for detailed insights into individual consumption patterns, including household expenditures, consumer behavior, and lifestyle choices related to various goods and services.\n",
    "\n",
    "The indicator consumption footprint estimates the environmental impacts of EU and Member States consumption by combining data on consumption intensity and environmental impacts of representative products. The indicator covers five areas of consumption: food, mobility, housing, appliances, and household goods. Consumption intensities are calculated based on consumption statistics.\n",
    "\n",
    "\n",
    "\n",
    "#### Datasource2: Eurostat - EU CO2 emissions from the production and consumption (footprint) perspectives (FIGARO application)\n",
    "\n",
    "- Metadata URL: https://ec.europa.eu/eurostat/cache/metadata/en/env_ac_co2fp_esms.htm\n",
    "- Data URL: https://ec.europa.eu/eurostat/api/dissemination/sdmx/2.1/data/egi_co2_1?format=SDMX-CSV&compressed=false\n",
    "- Data Type: CSV\n",
    "- License: CC BY-NC-ND 4.0 (Can be found in the 8.3. Release policy - user access section of the metadata. Based on the license terms, individuals are permitted to use this dataset for personal or educational purposes, provided that proper attribution is given to the source.)\n",
    "- **Reason for Use:** This dataset meets the need for quantifying the environmental impact and carbon footprint of various consumer activities, including greenhouse gas emissions associated with different products and services.\n",
    "\n",
    "The dataset presents modelling estimates of carbon dioxide (CO2) 'embodied' in products (goods and services) for final demand - also referred to as 'footprints'. The estimates are the result of environmental input-output modelling and cover the entire world economy.\n",
    "\n",
    "\n"
   ]
  },
  {
   "cell_type": "markdown",
   "id": "c29fcbc3-6229-493e-a79a-24dc99afd9fb",
   "metadata": {},
   "source": [
    "<hr/>"
   ]
  },
  {
   "cell_type": "markdown",
   "id": "9b1478db-31af-4433-a4f4-6151195f3bec",
   "metadata": {},
   "source": [
    "## Data Pipeline\n",
    "### Overview:\n",
    "\n",
    "- Download Data: The pipeline begins by downloading CSV files from specified URLs.\n",
    "- Transform Data: The downloaded data is then read into a pandas DataFrame, where certain columns are dropped to clean and transform the data.\n",
    "- Save Data: Finally, the transformed data is saved into an SQLite database."
   ]
  },
  {
   "cell_type": "markdown",
   "id": "179505e8-b669-42e0-8da3-08c046d8dd2a",
   "metadata": {},
   "source": [
    "### Technologies Used:\n",
    "\n",
    "- Python: Main programming language used.\n",
    "- pandas: Library for data manipulation and analysis.\n",
    "- requests: Library to handle HTTP requests for downloading data.\n",
    "- SQLite: Database to store the transformed data.\n",
    "- OS and URL libraries: For handling file paths and URLs."
   ]
  },
  {
   "cell_type": "markdown",
   "id": "3ef5d184-e859-47a5-8b22-b1008bf1d57c",
   "metadata": {},
   "source": [
    "### Transformation Steps:\n",
    "\n",
    "Dropping Columns: The columns \"DATAFLOW\", \"LAST UPDATE\", \"freq\" and \"OBS_FLAG\" are dropped from the DataFrame."
   ]
  },
  {
   "cell_type": "markdown",
   "id": "14f14bb7-f3a5-41bf-af86-303b75d91b48",
   "metadata": {},
   "source": [
    "### Reason for Transformation:\n",
    "\n",
    " The rationale behind dropping the first three columns is that they contain identical values across all data entries, rendering them redundant for analysis. The last column was excluded because it was entirely devoid of data, offering no meaningful contribution to the dataset."
   ]
  },
  {
   "cell_type": "markdown",
   "id": "e0c8d32c-2818-4d33-8ae3-fe5fa69783ce",
   "metadata": {},
   "source": [
    "<hr/>"
   ]
  },
  {
   "cell_type": "markdown",
   "id": "3ec4cf32-a2c8-47af-9169-3be47860dfe7",
   "metadata": {},
   "source": [
    "## Result and Limitations:\n",
    "\n",
    "### Output Data:\n",
    "\n",
    "The data is stored in an SQLite database, with each dataset being a table in the database. The reason is that SQLite databases are general-purpose formats and are easy to work with.\n",
    "\n",
    "### Limitations\n",
    "Incompatibility for Merging: Despite initial intentions to merge the datasets, their structures posed challenges for seamless integration."
   ]
  },
  {
   "cell_type": "markdown",
   "id": "cc3b4cf2-dae4-4d4d-87d2-d5fcfd6f105d",
   "metadata": {},
   "source": [
    "## Data Structure and Quality \n",
    "\n",
    "● Accuracy: Both the Consumption Footprint and Carbon Dioxide Emission Footprints datasets from Eurostat are accurate, offering reliable estimates for understanding environmental impacts and carbon footprints at both the EU and global levels.\n",
    "\n",
    "● Completeness: Both datasets contain all necessary information to understand and analyze the respective environmental indicators.\n",
    "\n",
    "● Consistency: Both datasets are consistent in their format.\n",
    "\n",
    "● Timeliness: The datasets are updated regularly and disseminated annually, ensuring that the age of the data remains appropriate.\n",
    "\n",
    "● Relevancy:  The datasets are updated regularly, providing current information on consumption footprints and carbon dioxide emissions"
   ]
  }
 ],
 "metadata": {
  "kernelspec": {
   "display_name": "Python 3 (ipykernel)",
   "language": "python",
   "name": "python3"
  },
  "language_info": {
   "codemirror_mode": {
    "name": "ipython",
    "version": 3
   },
   "file_extension": ".py",
   "mimetype": "text/x-python",
   "name": "python",
   "nbconvert_exporter": "python",
   "pygments_lexer": "ipython3",
   "version": "3.11.7"
  }
 },
 "nbformat": 4,
 "nbformat_minor": 5
}
