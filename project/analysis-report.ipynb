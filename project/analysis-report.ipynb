{
 "cells": [
  {
   "cell_type": "markdown",
   "id": "bc940006-ccb1-41c2-85c2-f3971eb37f55",
   "metadata": {},
   "source": [
    "# Title: Assessing the Role of Individual Consumption Behavior in Climate Change "
   ]
  },
  {
   "cell_type": "markdown",
   "id": "3e4bd0f0-c584-401f-95dc-4043b8bfa0e4",
   "metadata": {},
   "source": [
    "**Author:** Zahra Zamanoghli  \n",
    "**Date:** July 4, 2023"
   ]
  },
  {
   "cell_type": "markdown",
   "id": "ba0f29df-fcc2-493d-84e3-261c00ce590c",
   "metadata": {},
   "source": [
    "<hr/>"
   ]
  },
  {
   "cell_type": "markdown",
   "id": "6f51a343-d250-4553-9eae-b07b65eaf532",
   "metadata": {},
   "source": [
    "## Question \n",
    "\n",
    "### How do the consumption patterns of individuals contribute to carbon emissions across diverse categories of goods and services?"
   ]
  },
  {
   "cell_type": "markdown",
   "id": "7b79f3e5-e253-42bf-aff5-61deb6ff3abf",
   "metadata": {},
   "source": [
    "<hr/>"
   ]
  },
  {
   "cell_type": "markdown",
   "id": "ab58438f-c6cb-4b96-b31f-33a339a73c3f",
   "metadata": {},
   "source": [
    "## Introduction\n",
    "Understanding the environmental impact of individual consumption behaviors is crucial for assessing their contribution to global carbon emissions. This report examines two key datasets from Eurostat to explore this impact:"
   ]
  },
  {
   "cell_type": "markdown",
   "id": "d2611272-0957-468b-8300-215a4574cf25",
   "metadata": {},
   "source": [
    "\n",
    "\n",
    "\n",
    "\n",
    "#### Datasource1: Eurostat - Consumption footprint\n",
    "\n",
    "- Metadata URL: https://ec.europa.eu/eurostat/cache/metadata/en/cei_gsr010_esmsip2.htm\n",
    "- Data URL: https://ec.europa.eu/eurostat/api/dissemination/sdmx/2.1/data/cei_gsr010?format=SDMX-CSV&compressed=false\n",
    "- Data Type: CSV\n",
    "- License: Eurostat Copyright/Licence Policy (Can be found in the 8. Comment section of the metadata. Based on the license terms, it is acceptable for individuals to use this dataset for personal or educational endeavors, provided we acknowledge the source appropriately.)\n",
    "\n",
    "\n",
    "Sample Data Entry:\n",
    "<img src=\"1.PNG\"/>\n",
    "\n",
    "#### Datasource2: Eurostat - EU CO2 emissions from the production and consumption (footprint) perspectives (FIGARO application)\n",
    "\n",
    "- Metadata URL: https://ec.europa.eu/eurostat/cache/metadata/en/env_ac_co2fp_esms.htm\n",
    "- Data URL: https://ec.europa.eu/eurostat/api/dissemination/sdmx/2.1/data/egi_co2_1?format=SDMX-CSV&compressed=false\n",
    "- Data Type: CSV\n",
    "- License: CC BY-NC-ND 4.0 (Can be found in the 8.3. Release policy - user access section of the metadata. Based on the license terms, individuals are permitted to use this dataset for personal or educational purposes, provided that proper attribution is given to the source.)\n",
    "\n",
    "Sample Data Entry:\n",
    "<img src=\"2.PNG\"/>\n",
    "Through the analysis of these datasets, this report seeks to explore how each country's consumption habits influence carbon emissions and their broader impact on environmental sustainability. The emphasis lies in measuring these effects across various timeframes and geographical areas, providing valuable insights to compare nations and guide strategic initiatives aimed at mitigating climate change effectively."
   ]
  },
  {
   "cell_type": "markdown",
   "id": "eabf02de-1fbd-4589-acef-fd56a3f4ec38",
   "metadata": {},
   "source": [
    "<hr />"
   ]
  },
  {
   "cell_type": "markdown",
   "id": "2acab675-e652-4fea-8136-197bff3ec08a",
   "metadata": {},
   "source": [
    "## Used Data\n",
    "\n",
    "The output of my pipeline comprises two tables stored in a database. The first table provides detailed information for each country.\n",
    "\n"
   ]
  },
  {
   "cell_type": "markdown",
   "id": "887e1f28-4826-46d6-a11e-c652e5969a78",
   "metadata": {},
   "source": [
    "### Data Pipeline Overview\n",
    "\n",
    "The data pipeline begins by fetching CSV files from designated URLs. Using Python and primarily leveraging the pandas library, the data is loaded into a DataFrame. During this process, unnecessary columns such as \"DATAFLOW,\" \"LAST UPDATE,\" \"freq,\" and \"OBS_FLAG\" are removed to enhance clarity and efficiency. The refined dataset is then stored in an SQLite database for structured access and future analysis.\n",
    "\n",
    "<br />\n",
    "Here are final data entry samples from both datasources: \n",
    "\n",
    "\n",
    "| cons_fp | unit | geo     | TIME_PERIOD | OBS_VALUE |\n",
    "|---------|------|---------|-------------|-----------|\n",
    "| AC      | I10  | AT      | 2010        | 100.0     |\n",
    "\n",
    "| cons_fp      | unit | geo       | TIME_PERIOD | OBS_VALUE   |\n",
    "|--------------|------|-----------|-------------|-------------|\n",
    "| CO2_CONS_FP  | THS_T| EU27_2020 | 2010        | 4209578.474 |\n"
   ]
  },
  {
   "cell_type": "markdown",
   "id": "cd587fdf-be5d-41aa-8d8c-f5cfc7881013",
   "metadata": {},
   "source": [
    "<hr />"
   ]
  },
  {
   "cell_type": "markdown",
   "id": "b3af3aa2-854f-4e9b-9b73-398dcbcffbcb",
   "metadata": {},
   "source": [
    "## Analysis\n",
    "\n",
    "### Method\n",
    "Data extraction and transformation were conducted using Python and SQLite to aggregate and visualize CO2 emissions across years and countries.\n",
    "\n",
    "### Result\n",
    "<div style=\"display: flex; flex-direction: row; flex-wrap: wrap; margin-bottom: 10px;\">\n",
    "    <img src=\"3.PNG\" style=\"width: 300px; object-fit: cover; margin-right: 10px;\"/>\n",
    "    <p style=\"flex: 1;\">\n",
    "        There is significant variation in the consumption footprint per inhabitant among the countries. Some countries have footprints exceeding 10,000, while others are below 5,000. Ireland (IE) and Finland (FI) stand out with the highest consumption footprints per inhabitant, with values surpassing 10,000. This indicates a higher per capita resource consumption in these countries.\n",
    "    </p>\n",
    "</div>\n",
    "\n",
    "<div style=\"display: flex; flex-direction: row; flex-wrap: wrap; margin-bottom: 10px;\">\n",
    "    <img src=\"4.PNG\" style=\"width: 300px; object-fit: cover; margin-right: 10px;\"/>\n",
    "    <p style=\"flex: 1;\">\n",
    "    The graph shows that from 2010 to 2020, both CO2 production and consumption footprints in the EU27 countries have generally declined. CO2 production dropped steadily from around 3.6 million to below 3.0 million, indicating successful emission reduction efforts. CO2 consumption footprint also decreased from about 4.2 million, with a notable dip in 2020 likely due to the COVID-19 pandemic's impact on economic activity.\n",
    "    </p>\n",
    "</div>\n",
    "<div style=\"display: flex; flex-direction: row; flex-wrap: wrap; margin-bottom: 10px;\">\n",
    "    \n",
    "<img src=\"5.PNG\" style=\"width: 300px; object-fit: cover; margin-right: 10px;\"/>\n",
    "    <p style=\"flex: 1;\">\n",
    "The graph shows \"Consumption Footprint vs. OBS_VALUE by Country\" for various environmental impact categories. Dots represent specific countries and categories, with colors indicating different categories. Water Use (WU) and Single Weighted Score (SWS) are concentrated at lower OBS_VALUE ranges, indicating generally lower impacts. In contrast, categories like Particulate Matter Formation (PM_HHLTH), Photochemical Ozone Formation (POF), and Human Toxicity (HUM_HHLTH) appear at higher OBS_VALUE ranges, showing significant contributions to the consumption footprint.\n",
    " </p>\n",
    "</div>\n",
    "\n",
    "\n",
    "| IMPACT CATEGORY                  | PER CAPITA UNIT           |\n",
    "|----------------------------------|---------------------------|\n",
    "| Acidification                    | mol H⁺ eq.                |\n",
    "| Climate change                   | tonnes CO₂ eq.            |\n",
    "| Ecotoxicity, freshwater          | thousand CTUe             |\n",
    "| Eutrophication marine            | kg N eq.                  |\n",
    "| Eutrophication, freshwater       | kg P eq.                  |\n",
    "| Eutrophication, terrestrial      | thousand mol N eq.        |\n",
    "| Human toxicity, cancer           | micro CTUh                |\n",
    "| Human toxicity, non-cancer       | micro CTUh                |\n",
    "| Ionising radiation               | tonnes U-235 eq.          |\n",
    "| Land use                         | million Pt.               |\n",
    "| Ozone depletion                  | g CFC-11 eq.              |\n",
    "| Particulate matter               | disease incidence (by 1000)|\n",
    "| Photochemical ozone formation    | kg NMVOC eq.              |\n",
    "| Resource use, fossils            | gigajoule (GJ)            |\n",
    "| Resource use, minerals and metals| kg Sb eq.                 |\n",
    "| Water use                        | thousand m³ water eq.     |\n",
    "| Single Weighted Score            | nanopoints                |"
   ]
  },
  {
   "cell_type": "markdown",
   "id": "23f9ef1d-7cd0-4718-adfb-f29e70e99ea6",
   "metadata": {},
   "source": [
    "<hr />"
   ]
  },
  {
   "cell_type": "markdown",
   "id": "f62ac555-3c41-4c43-b919-c8499f41f9a9",
   "metadata": {},
   "source": [
    "## Conclusion"
   ]
  },
  {
   "cell_type": "markdown",
   "id": "0e9e6045-fd77-4197-8284-cccf95053bea",
   "metadata": {},
   "source": [
    "* Individual consumption patterns significantly influence carbon emissions across diverse categories.\n",
    "* Countries exhibit varying consumption footprints per inhabitant, reflecting disparities in resource use and environmental impact.\n",
    "* High-footprint countries like Irland and Finland demonstrate higher per capita emissions due to greater resource consumption.\n",
    "* Lower-footprint countries such as Bulgaria and Slovakia show reduced environmental impacts per capita.\n",
    "* Effective mitigation strategies should focus on reducing emissions from high-footprint activities and promoting sustainable consumption practices globally.\n"
   ]
  }
 ],
 "metadata": {
  "kernelspec": {
   "display_name": "Python 3 (ipykernel)",
   "language": "python",
   "name": "python3"
  },
  "language_info": {
   "codemirror_mode": {
    "name": "ipython",
    "version": 3
   },
   "file_extension": ".py",
   "mimetype": "text/x-python",
   "name": "python",
   "nbconvert_exporter": "python",
   "pygments_lexer": "ipython3",
   "version": "3.11.7"
  }
 },
 "nbformat": 4,
 "nbformat_minor": 5
}
